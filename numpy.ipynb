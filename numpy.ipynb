{
  "cells": [
    {
      "cell_type": "markdown",
      "metadata": {
        "id": "vC84e9kzyxPy"
      },
      "source": [
        "<h1>Импорт библиотек"
      ]
    },
    {
      "cell_type": "code",
      "execution_count": 3,
      "metadata": {
        "id": "cgKeNegmQG5S"
      },
      "outputs": [],
      "source": [
        "import numpy as np\n",
        "import matplotlib.pyplot as plt"
      ]
    },
    {
      "cell_type": "markdown",
      "metadata": {
        "id": "qFM9uVU2x4Ls"
      },
      "source": [
        "<h1>Задача 1. Дан набор из $p$ матриц размерностью $(n, n)$ и $p$ векторов размерностью $(n, 1)$, найти сумму произведений матриц на векторы. Написать тесты для кода"
      ]
    },
    {
      "cell_type": "code",
      "execution_count": null,
      "metadata": {
        "id": "IAbUvEiYyWFF"
      },
      "outputs": [],
      "source": [
        "def sum_prod(X, V):\n",
        "    '''\n",
        "    X - матрицы (n, n)\n",
        "    V - векторы (n, 1)\n",
        "    Гарантируется, что len(X) == len(V)\n",
        "    '''\n",
        "    # Your code goes here\n",
        "    sum = np.array([0]*len(V[0]))\n",
        "    for i in range(len(X)):\n",
        "        x = np.array(X[i])\n",
        "        v = np.array(V[i])\n",
        "        sum = sum + np.dot(x, v)\n",
        "\n",
        "    return sum\n",
        "\n",
        "# Tests\n",
        "import unittest\n",
        "\n",
        "class Tests(unittest.TestCase):\n",
        "    def test_1(self):\n",
        "        X = [\n",
        "        [[2, 4, 0],\n",
        "         [-2, 1, 3],\n",
        "         [-1, 0, 1]],\n",
        "\n",
        "         [[2, -1, 3],\n",
        "         [4, 2, 0],\n",
        "         [-1, 1, 1]]\n",
        "        ]\n",
        "        V = [\n",
        "            [1, 2, -1],\n",
        "\n",
        "            [1, 2, -1]\n",
        "        ]\n",
        "        self.assertEqual(sum_prod(X, V), [7, 5, -2])"
      ]
    },
    {
      "cell_type": "markdown",
      "metadata": {
        "id": "TKwPG4fIy2w4"
      },
      "source": [
        "<h1>Задача 2. Дана матрица M, напишите функцию, которая бинаризует матрицу по некоторому threshold (то есть, все значения большие threshold становятся равными 1, иначе 0). Напишите тесты для кода"
      ]
    },
    {
      "cell_type": "code",
      "execution_count": null,
      "metadata": {
        "id": "KQDNMgsjRNH7"
      },
      "outputs": [],
      "source": [
        "def binarize(M, threshold=0.5):\n",
        "    # Your code goes here\n",
        "    M = np.array(M)\n",
        "    return (M >= threshold).astype(int)\n",
        "\n",
        "# Tests\n",
        "import unittest\n",
        "\n",
        "class Tests(unittest.TestCase):\n",
        "    def test_1(self):\n",
        "        M = [\n",
        "            [1, 5, 3],\n",
        "            [7, 2, 8],\n",
        "            [4, 6, 0]\n",
        "        ]\n",
        "        answer = [\n",
        "            [0, 1, 0],\n",
        "            [1, 0, 1],\n",
        "            [1, 1, 0]\n",
        "        ]\n",
        "        self.assertEqual(binarize(M, 4), answer)\n",
        "\n",
        "    def test_2(self):\n",
        "        M = [\n",
        "            [0, 5, 0],\n",
        "            [7, 0, 8],\n",
        "            [0, 6, 0]\n",
        "        ]\n",
        "        answer = [\n",
        "            [0, 1, 0],\n",
        "            [1, 0, 1],\n",
        "            [0, 1, 0]\n",
        "        ]\n",
        "        self.assertEqual(binarize(M), answer)"
      ]
    },
    {
      "cell_type": "markdown",
      "metadata": {
        "id": "IY5L-h-7zWhN"
      },
      "source": [
        "<h1>Задача 3. Напишите функцию, которая возвращает уникальные элементы из каждой строки матрицы. Напишите такую же функцию, но для столбцов. Напишите тесты для кода"
      ]
    },
    {
      "cell_type": "code",
      "execution_count": null,
      "metadata": {
        "id": "-8dEZhR0SBC-"
      },
      "outputs": [],
      "source": [
        "def unique_rows(mat):\n",
        "    # Your code goes here\n",
        "    mat = np.array(mat)\n",
        "    ans = []\n",
        "    for i in range(mat.shape[1]):\n",
        "        column = mat[i]\n",
        "        unique = []\n",
        "        for x in np.unique(column):\n",
        "            if np.count_nonzero(column == x) == 1:\n",
        "                unique.append(int(x))\n",
        "        ans.append(unique)\n",
        "\n",
        "    return ans\n",
        "\n",
        "def unique_columns(mat):\n",
        "    # Your code goes here\n",
        "    mat = np.array(mat)\n",
        "    ans = []\n",
        "    for i in range(mat.shape[1]):\n",
        "        column = mat[:, i]\n",
        "        unique = []\n",
        "        for x in np.unique(column):\n",
        "            if np.count_nonzero(column == x) == 1:\n",
        "                unique.append(int(x))\n",
        "        ans.append(unique)\n",
        "\n",
        "    return ans\n",
        "\n",
        "# Tests\n",
        "import unittest\n",
        "\n",
        "class Tests(unittest.TestCase):\n",
        "    def test_1(self):\n",
        "        M = [\n",
        "            [1, 3, 1],\n",
        "            [2, 2, 6],\n",
        "            [9, 4, 4]\n",
        "        ]\n",
        "        self.assertEqual(unique_rows(M), [[3], [6], [9]])\n",
        "    \n",
        "    def test_2(self):\n",
        "        M = [\n",
        "            [1, 3, 2],\n",
        "            [1, 6, 2],\n",
        "            [4, 3, 9]\n",
        "        ]\n",
        "        self.assertEqual(unique_columns(M), [[4], [6], [9]])\n"
      ]
    },
    {
      "cell_type": "markdown",
      "metadata": {
        "id": "roYAlo4Jz-lH"
      },
      "source": [
        "<h1>Задача 4. Напишите функцию, которая заполняет матрицу с размерами $(m, n)$ случайными числами, распределенными по нормальному закону. Затем считает мат. ожидание и дисперсию для каждого из столбцов и строк, а также строит для каждой строки и столбца гистограмму значений (использовать функцию hist из модуля matplotlib.plot)"
      ]
    },
    {
      "cell_type": "code",
      "execution_count": null,
      "metadata": {
        "id": "nZK_71hMSQzv"
      },
      "outputs": [],
      "source": [
        "# Your code goes here\n",
        "def generate_matrix_with_info(m, n):\n",
        "    matrix = np.random.randn(m, n) \n",
        "\n",
        "    mean_rows = np.mean(matrix, axis=1)  # Мат. ожидание (строки)\n",
        "    var_rows = np.var(matrix, axis=1)    # Дисперсия по (строки)\n",
        "\n",
        "    mean_cols = np.mean(matrix, axis=0)  # Мат. ожидание (столбцы)\n",
        "    var_cols = np.var(matrix, axis=0)    # Дисперсия (столбцы)\n",
        "\n",
        "    print(f\"Мат. ожидание по строкам: {mean_rows}\")\n",
        "    print(f\"Дисперсия по строкам: {var_rows}\")\n",
        "    print(f\"Мат. ожидание по столбцам: {mean_cols}\")\n",
        "    print(f\"Дисперсия по столбцам: {var_cols}\")\n",
        "\n",
        "    for i in range(m):\n",
        "        plt.figure()\n",
        "        plt.hist(matrix[i], bins=10, color='blue', edgecolor='black')\n",
        "        plt.title(f\"Гистограмма значений строки {i + 1}\")\n",
        "        plt.xlabel(\"Значение\")\n",
        "        plt.ylabel(\"Частота\")\n",
        "        plt.grid(True)\n",
        "        plt.show()\n",
        "\n",
        "    for j in range(n):\n",
        "        plt.figure()\n",
        "        plt.hist(matrix[:, j], bins=10, color='green', edgecolor='black')\n",
        "        plt.title(f\"Гистограмма значений столбца {j + 1}\")\n",
        "        plt.xlabel(\"Значение\")\n",
        "        plt.ylabel(\"Частота\")\n",
        "        plt.grid(True)\n",
        "        plt.show()"
      ]
    },
    {
      "cell_type": "markdown",
      "metadata": {
        "id": "BDyATNdM0dJ2"
      },
      "source": [
        "<h1>Задача 5. Напишите функцию, которая заполняет матрицу $(m, n)$ в шахматном порядке заданными числами $a$ и $b$. Напишите тесты для кода"
      ]
    },
    {
      "cell_type": "code",
      "execution_count": null,
      "metadata": {
        "id": "RWNJYWQGecS6"
      },
      "outputs": [],
      "source": [
        "def chess(m, n, a, b):\n",
        "    # Your code goes here\n",
        "    mat = np.zeros((m, n), dtype=int) \n",
        "    \n",
        "    for i in range(m):\n",
        "        for j in range(n):\n",
        "            if (i + j) % 2 == 0:\n",
        "                mat[i, j] = a\n",
        "            else:\n",
        "                mat[i, j] = b\n",
        "\n",
        "    return mat\n",
        "\n",
        "# Tests\n",
        "import unittest\n",
        "\n",
        "class Tests(unittest.TestCase):\n",
        "    def test_1(self):\n",
        "        M = [\n",
        "            [8, 4, 8, 4, 8],\n",
        "            [4, 8, 4, 8, 4],\n",
        "            [8, 4, 8, 4, 8],\n",
        "            [4, 8, 4, 8, 4],\n",
        "            [8, 4, 8, 4, 8]\n",
        "        ] \n",
        "        self.assertEqual(chess(5, 5, 8, 4), M)"
      ]
    },
    {
      "cell_type": "markdown",
      "metadata": {
        "id": "-ymXLtTN0vB6"
      },
      "source": [
        "<h1>Задача 6. Напишите функцию, которая отрисовывает прямоугольник с заданными размерами (a, b) на изображении размера (m, n), цвет фона задайте в схеме RGB, как и цвет прямоугольника. Цвета также должны быть параметрами функции. Напишите аналогичную функцию но для овала с полуосями a и b. Напишите тесты для кода.\n",
        "Примечание: уравнение эллипса (границы овала) можно записать как:\n",
        "<h1>$\\frac{(x-x_0)^2}{a^2}+\\frac{(y-y_0)^2}{b^2}=1$"
      ]
    },
    {
      "cell_type": "code",
      "execution_count": 1,
      "metadata": {
        "id": "sNfl1t_kfOF4"
      },
      "outputs": [],
      "source": [
        "def draw_rectangle(a, b, m, n, rectangle_color, background_color):\n",
        "    # Your code goes here\n",
        "    # Создаем фон\n",
        "    image = np.ones((m, n, 3), dtype=int) * np.array(background_color, dtype=int    )\n",
        "    \n",
        "    # координаты для центрирования прямоугольника\n",
        "    start_y = (m - a) // 2\n",
        "    start_x = (n - b) // 2\n",
        "\n",
        "    # Рисуем прямоугольник\n",
        "    image[start_y:start_y + a, start_x:start_x + b] = rectangle_color\n",
        "\n",
        "    plt.imshow(image)\n",
        "    plt.axis('off')\n",
        "    plt.show()\n",
        "\n",
        "def draw_ellipse(a, b, m, n, ellipse_color, background_color):\n",
        "    # Your code goes here\n",
        "    # Создаем фон\n",
        "    image = np.ones((m, n, 3), dtype=int) * np.array(background_color, dtype=int)\n",
        "\n",
        "    # Центр изображения\n",
        "    y0 = m // 2\n",
        "    x0 = n // 2\n",
        "\n",
        "    # координаты всех пикселей\n",
        "    y, x = np.ogrid[:m, :n]\n",
        "\n",
        "    # Уравнение эллипса\n",
        "    oval = ((x - x0) ** 2) / b ** 2 + ((y - y0) ** 2) / a ** 2 <= 1\n",
        "    \n",
        "    # рисуем овала\n",
        "    image[oval] = ellipse_color\n",
        "\n",
        "    # Отображаем изображение\n",
        "    plt.imshow(image)\n",
        "    plt.axis('off')  # Отключаем оси\n",
        "    plt.show()\n",
        "\n",
        "# Примеры\n",
        "draw_rectangle(100, 150, 200, 300, rectangle_color=(255, 0, 0), background_color=(0, 255, 255))\n",
        "draw_ellipse(80, 120, 200, 300, ellipse_color=(255, 0, 0), background_color=(0, 255, 255))"
      ]
    },
    {
      "cell_type": "markdown",
      "metadata": {
        "id": "S82c38oz244H"
      },
      "source": [
        "<h1>Задача 7. Дан некий временной ряд. Для данного ряда нужно найти его: математическое ожидание, дисперсию, СКО, найти все локальные максимумы и минимумы (локальный максимум - это точка, которая больше своих соседних точек, а локальный минимум - это точка, которая меньше своих соседей), а также вычислить для данного ряда другой ряд, получаемый методом скользящего среднего с размером окна $p$.\n",
        "<h1>Примечание: метод скользящего среднего подразумевает нахождение среднего из подмножетсва ряда размером $p$"
      ]
    },
    {
      "cell_type": "code",
      "execution_count": null,
      "metadata": {
        "id": "Zb9mIVge5MMt"
      },
      "outputs": [],
      "source": [
        "# Your code goes here\n",
        "def series_info(time_series, p):\n",
        "    # Математическое ожидание\n",
        "    mean_value = np.mean(time_series)\n",
        "    print(f\"Математическое ожидание: {mean_value}\")\n",
        "\n",
        "    # Дисперсия\n",
        "    variance = np.var(time_series)\n",
        "    print(f\"Дисперсия: {variance}\")\n",
        "\n",
        "    # Среднеквадратическое отклонение\n",
        "    sd = np.std(time_series)\n",
        "    print(f\"Среднеквадратическое отклонение: {sd}\")\n",
        "\n",
        "    # Поиск локальных максимумов и минимумов\n",
        "    local_max = []\n",
        "    local_min = []\n",
        "    for i in range(1, len(time_series) - 1):\n",
        "        if time_series[i - 1] < time_series[i] > time_series[i + 1]:\n",
        "            local_max.append((i, int(time_series[i])))\n",
        "        elif time_series[i - 1] > time_series[i] < time_series[i + 1]:\n",
        "            local_min.append((i, int(time_series[i])))\n",
        "\n",
        "    print(f\"Локальные максимумы: {local_max}\")\n",
        "    print(f\"Локальные минимумы: {local_min}\")\n",
        "\n",
        "    # Скользящее среднее с окном размера p\n",
        "    avg = np.convolve(time_series, np.ones(p) / p, mode='valid')\n",
        "    print(f\"Скользящее среднее (окно = {p}):\")\n",
        "    for item in avg:\n",
        "        print(item)\n"
      ]
    },
    {
      "cell_type": "markdown",
      "metadata": {
        "id": "jPkylmOX5O9n"
      },
      "source": [
        "<h1> Задача 8. Дан некоторый вектор с целочисленными метками классов, напишите функцию, которая выполняет one-hot-encoding для данного вектора\n",
        "<h1> One-hot-encoding - представление, в котором на месте метки некоторого класса стоит 1, в остальных позициях стоит 0. Например для вектора [0, 2, 3, 0] one-hot-encoding выглядит как: [[1, 0, 0, 0], [0, 0, 1, 0], [0, 0, 0, 1], [1, 0, 0, 0]]"
      ]
    },
    {
      "cell_type": "code",
      "execution_count": null,
      "metadata": {
        "id": "Y-jlnZvw56lD"
      },
      "outputs": [],
      "source": [
        "# Your code goes here\n",
        "def one_hot_encoding(vector):\n",
        "    length = len(vector)\n",
        "    \n",
        "    vector = np.array(vector)\n",
        "    class_num = np.max(vector) + 1  # количество классов\n",
        "    one_hot = np.zeros((length, class_num), dtype=int)  # пустая 2д матрица\n",
        "    \n",
        "    all_classes = np.arange(length)\n",
        "    for i in range(length):\n",
        "        one_hot[all_classes[i], vector[i]] = 1\n",
        "    return one_hot"
      ]
    }
  ],
  "metadata": {
    "colab": {
      "provenance": []
    },
    "kernelspec": {
      "display_name": "Python 3",
      "name": "python3"
    },
    "language_info": {
      "name": "python"
    }
  },
  "nbformat": 4,
  "nbformat_minor": 0
}
