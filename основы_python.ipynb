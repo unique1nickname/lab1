{
  "cells": [
    {
      "cell_type": "markdown",
      "metadata": {
        "id": "M-DGa20PaHnu"
      },
      "source": [
        "#Задача 1\n",
        "Написать функцию на вход которой подается строка, состоящая из латинских букв.\n",
        "Функция должна вернуть количество гласных букв (a, e, i, o, u) в этой строке. Написать тесты для кода"
      ]
    },
    {
      "cell_type": "code",
      "execution_count": null,
      "metadata": {
        "id": "XvX8X_JJ6PCb"
      },
      "outputs": [],
      "source": [
        "# Your code goes here\n",
        "def vowel_letters(string):\n",
        "    all_vowel = (\"a\", \"e\", \"i\", \"o\", \"u\")\n",
        "    string = string.lower()\n",
        "    count = 0\n",
        "    for i in string:\n",
        "        if i in all_vowel:\n",
        "            count += 1\n",
        "    return count\n",
        "\n",
        "# Tests\n",
        "import unittest\n",
        "\n",
        "class Tests(unittest.TestCase):\n",
        "    def test_1(self):\n",
        "        self.assertEqual(vowel_letters(\"qwerty\"), 1)\n",
        "        self.assertEqual(vowel_letters(\"ieaiaio\"), 7)\n",
        "        self.assertEqual(vowel_letters(\"wxyz\"), 0)"
      ]
    },
    {
      "cell_type": "markdown",
      "metadata": {
        "id": "t2ClV_Y0bbr6"
      },
      "source": [
        "# Задача 2\n",
        "Написать функцию на вход, которой подается строка. Функция должна вернуть true, если\n",
        "каждый символ в строке встречается только 1 раз, иначе должна вернуть false. Написать тесты для кода"
      ]
    },
    {
      "cell_type": "code",
      "execution_count": null,
      "metadata": {
        "id": "FppbECao6VIz"
      },
      "outputs": [],
      "source": [
        "# Your code goes here\n",
        "def is_unique(string):\n",
        "    lettersDict = dict()\n",
        "    for i in string:\n",
        "        if i in lettersDict.keys():\n",
        "            lettersDict[i] += 1\n",
        "        else:\n",
        "            lettersDict[i] = 1\n",
        "    for i in lettersDict.values():\n",
        "        print(i)\n",
        "        if i > 1:\n",
        "            return False\n",
        "    return True\n",
        "\n",
        "# Tests\n",
        "import unittest\n",
        "\n",
        "class Tests(unittest.TestCase):\n",
        "    def test_1(self):\n",
        "        self.assertEqual(is_unique(\"aabcd\"), False)\n",
        "        self.assertEqual(is_unique(\"abcd\"), True)\n",
        "        self.assertEqual(is_unique(\"lmaoxd\"), True)\n",
        "        self.assertEqual(is_unique(\"aaaa\"), False)"
      ]
    },
    {
      "cell_type": "markdown",
      "metadata": {
        "id": "udRiIK1cdt6E"
      },
      "source": [
        "# Задача 3\n",
        "Написать функцию, которая принимает положительное число и возвращает количество\n",
        "бит равных 1 в этом числе. Написать тесты для кода"
      ]
    },
    {
      "cell_type": "code",
      "execution_count": null,
      "metadata": {
        "id": "6tkfDJRz6dp_"
      },
      "outputs": [],
      "source": [
        "# Your code goes here\n",
        "def bit_counter(number):\n",
        "    if number < 0:\n",
        "        raise ValueError(\"Число должно быть положительным.\")\n",
        "    number = str(bin(number))\n",
        "    counter = 0\n",
        "    for i in number:\n",
        "        if i == \"1\":\n",
        "            counter += 1\n",
        "    return counter\n",
        "\n",
        "# Tests\n",
        "import unittest\n",
        "\n",
        "class Tests(unittest.TestCase):\n",
        "    def test_1(self):\n",
        "        self.assertEqual(bit_counter(1), 1)\n",
        "        self.assertEqual(bit_counter(3), 2)\n",
        "\n",
        "    def test_2(self):\n",
        "        self.assertRaises(ValueError, bit_counter(-5))"
      ]
    },
    {
      "cell_type": "markdown",
      "metadata": {
        "id": "26dDUz-Ae17N"
      },
      "source": [
        "# Задача 4\n",
        "Написать функцию, которая принимает положительное число. Функция должна вернуть то,\n",
        "сколько раз необходимо перемножать цифры числа или результат перемножения, чтобы\n",
        "получилось число состоящее из одной цифры.\n",
        "Например, для входного числа:\n",
        "· 39 функция должна вернуть 3, так как 3*9=27 => 2*7=14 => 1*4=4\n",
        "· 4 функция должна вернуть 0, так как число уже состоит из одной цифры\n",
        "· 999 функция должна вернуть 4, так как 9*9*9=729 => 7*2*9=126 => 1*2*6=12 =>\n",
        "1*2=2. Написать тесты для кода"
      ]
    },
    {
      "cell_type": "code",
      "execution_count": null,
      "metadata": {
        "id": "BH1A_Mgi6i4G"
      },
      "outputs": [],
      "source": [
        "def magic(number):\n",
        "    if number < 0:\n",
        "        raise ValueError(\"Число должно быть положительным.\")\n",
        "    counter = 0\n",
        "    numberStr = str(number)\n",
        "    while len(numberStr) > 1:\n",
        "        counter += 1\n",
        "        newNum = 1\n",
        "        for i in numberStr:\n",
        "            if i != \"0\":\n",
        "                newNum *= int(i)\n",
        "        numberStr = str(newNum)\n",
        "    return counter\n",
        "\n",
        "# Tests\n",
        "import unittest\n",
        "\n",
        "class Tests(unittest.TestCase):\n",
        "    def test_1(self):\n",
        "        self.assertEqual(magic(39), 3)\n",
        "        self.assertEqual(magic(4), 0)\n",
        "        self.assertEqual(magic(999), 4)\n",
        "\n",
        "    def test_2(self):\n",
        "        self.assertRaises(ValueError, magic(-5))"
      ]
    },
    {
      "cell_type": "markdown",
      "metadata": {
        "id": "0nS-kIa8g8vd"
      },
      "source": [
        "# Задача 5\n",
        "Написать функцию, которая принимает два целочисленных вектора одинаковой длины и\n",
        "возвращает среднеквадратическое отклонение двух векторов. Написать тесты для кода"
      ]
    },
    {
      "cell_type": "code",
      "execution_count": null,
      "metadata": {
        "id": "8iphx4LM6xbx"
      },
      "outputs": [],
      "source": [
        "def mse(pred, true):\n",
        "    # Your code goes here\n",
        "    pass"
      ]
    },
    {
      "cell_type": "markdown",
      "metadata": {
        "id": "vpIPKL439zkw"
      },
      "source": [
        "# Задача 6\n",
        "Написать функцию, принимающая целое положительное число. Функция должна вернуть\n",
        "строку вида “(n1**p1)(n2**p2)…(nk**pk)” представляющая разложение числа на простые\n",
        "множители (если pi == 1, то выводить только ni).\n",
        "Например, для числа 86240 функция должна вернуть “(2**5)(5)(7**2)(11)”. Написать тесты для кода"
      ]
    },
    {
      "cell_type": "code",
      "execution_count": null,
      "metadata": {
        "id": "pFebmcZk94Jw"
      },
      "outputs": [],
      "source": [
        "# Your code goes here\n",
        "def prime_multipliers(number):\n",
        "    if number < 0:\n",
        "        raise ValueError(\"Число должно быть положительным.\")\n",
        "    answerDict = dict()\n",
        "    currentPrime = 2\n",
        "    while not is_prime(number):\n",
        "        if number % currentPrime == 0:\n",
        "            number /= currentPrime\n",
        "            if currentPrime in answerDict.keys():\n",
        "                answerDict[currentPrime] += 1\n",
        "            else:\n",
        "                answerDict[currentPrime] = 1\n",
        "        else:\n",
        "            currentPrime = get_next_prime_num(currentPrime)\n",
        "    number = int(number)\n",
        "    if number in answerDict.keys():\n",
        "        answerDict[number] += 1\n",
        "    else:\n",
        "        answerDict[number] = 1\n",
        "    answer = \"\"\n",
        "    for i in answerDict.items():\n",
        "        if i[1] == 1:\n",
        "            answer += f\"({i[0]})\"\n",
        "        else:\n",
        "            answer += f\"({i[0]}**{i[1]})\"\n",
        "    return answer\n",
        "\n",
        "def get_next_prime_num(num):\n",
        "    num += 1\n",
        "    while not is_prime(num):\n",
        "        num += 1 \n",
        "    return num\n",
        "\n",
        "def is_prime(num):\n",
        "    d = 2\n",
        "    while d*d <= num and num % d != 0:\n",
        "        d += 1\n",
        "    return d*d > num \n",
        "\n",
        "# Tests\n",
        "import unittest\n",
        "\n",
        "class Tests(unittest.TestCase):\n",
        "    def test_1(self):\n",
        "        self.assertEqual(prime_multipliers(86240), \"(2**5)(5)(7**2)(11)\")\n",
        "\n",
        "    def test_2(self):\n",
        "        self.assertRaises(ValueError, prime_multipliers(-5))"
      ]
    },
    {
      "cell_type": "markdown",
      "metadata": {
        "id": "ps2s0BudX7A2"
      },
      "source": [
        "# Задача 7\n",
        "Написать функцию, принимающая целое число n, задающее количество кубиков. Функция\n",
        "должна определить, можно ли из данного кол-ва кубиков построить пирамиду, то есть\n",
        "можно ли представить число n как 1^2+2^2+3^2+…+k^2. Если можно, то функция должна\n",
        "вернуть k, иначе строку “It is impossible”. Написать тесты для кода"
      ]
    },
    {
      "cell_type": "code",
      "execution_count": null,
      "metadata": {
        "id": "3YPjEXxhX_YT"
      },
      "outputs": [],
      "source": [
        "def pyramid(number):\n",
        "    # Your code goes here\n",
        "    pass"
      ]
    },
    {
      "cell_type": "markdown",
      "metadata": {
        "id": "KeKgmIdAQMEJ"
      },
      "source": [
        "# Задача 8\n",
        "Функция принимает на вход положительное число и определяет является ли оно сбалансированным, т.е. сумма цифр до средних равна сумме цифр после. Средними в случае нечетного числа цифр считать одну цифру, в случае четного - две средних. Написать тесты для кода"
      ]
    },
    {
      "cell_type": "code",
      "execution_count": null,
      "metadata": {
        "id": "gMAAqtqlQrZt"
      },
      "outputs": [],
      "source": [
        "# Your code goes here"
      ]
    }
  ],
  "metadata": {
    "colab": {
      "provenance": []
    },
    "kernelspec": {
      "display_name": "Python 3",
      "name": "python3"
    },
    "language_info": {
      "name": "python"
    }
  },
  "nbformat": 4,
  "nbformat_minor": 0
}
